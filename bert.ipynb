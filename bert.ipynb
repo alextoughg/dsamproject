{
 "cells": [
  {
   "cell_type": "code",
   "execution_count": 2,
   "metadata": {},
   "outputs": [
    {
     "name": "stdout",
     "output_type": "stream",
     "text": [
      "Collecting sentence-transformers\n",
      "\u001b[?25l  Downloading https://files.pythonhosted.org/packages/20/9c/f07bd70d128fdb107bc02a0c702b9058b4fe147d0ba67b5a0f4c3cf15a54/sentence-transformers-2.2.2.tar.gz (85kB)\n",
      "\u001b[K     |████████████████████████████████| 92kB 2.8MB/s eta 0:00:01\n",
      "\u001b[?25hCollecting transformers<5.0.0,>=4.6.0 (from sentence-transformers)\n",
      "\u001b[?25l  Downloading https://files.pythonhosted.org/packages/a4/df/3248eac2923ceffdf55686ff318e002b558e7c51f6a909dd870cf3185949/transformers-4.24.0-py3-none-any.whl (5.5MB)\n",
      "\u001b[K     |████████████████████████████████| 5.5MB 12.0MB/s eta 0:00:01\n",
      "\u001b[?25hRequirement already satisfied, skipping upgrade: tqdm in /opt/anaconda3/lib/python3.7/site-packages (from sentence-transformers) (4.36.1)\n",
      "Collecting torch>=1.6.0 (from sentence-transformers)\n",
      "\u001b[?25l  Downloading https://files.pythonhosted.org/packages/41/3d/680befd296b07e7963d637f945cfe4e7fe0d217045a2f50158cc2448a2b2/torch-1.13.0-cp37-none-macosx_10_9_x86_64.whl (137.5MB)\n",
      "\u001b[K     |████████████████████████████████| 137.6MB 37kB/s s eta 0:00:01    |█████▋                          | 24.3MB 13.6MB/s eta 0:00:09     |████████████████████████▊       | 106.4MB 9.8MB/s eta 0:00:04     |█████████████████████████████▉  | 128.4MB 6.8MB/s eta 0:00:02\n",
      "\u001b[?25hCollecting torchvision (from sentence-transformers)\n",
      "\u001b[?25l  Downloading https://files.pythonhosted.org/packages/11/e2/9e7a92510044f82e26d382361b14377b61ca570266e53ae7c37f8ca3631c/torchvision-0.14.0-cp37-cp37m-macosx_10_9_x86_64.whl (1.4MB)\n",
      "\u001b[K     |████████████████████████████████| 1.4MB 8.4MB/s eta 0:00:01\n",
      "\u001b[?25hRequirement already satisfied, skipping upgrade: numpy in /opt/anaconda3/lib/python3.7/site-packages (from sentence-transformers) (1.17.2)\n",
      "Requirement already satisfied, skipping upgrade: scikit-learn in /opt/anaconda3/lib/python3.7/site-packages (from sentence-transformers) (0.21.3)\n",
      "Requirement already satisfied, skipping upgrade: scipy in /opt/anaconda3/lib/python3.7/site-packages (from sentence-transformers) (1.3.1)\n",
      "Requirement already satisfied, skipping upgrade: nltk in /opt/anaconda3/lib/python3.7/site-packages (from sentence-transformers) (3.4.5)\n",
      "Collecting sentencepiece (from sentence-transformers)\n",
      "\u001b[?25l  Downloading https://files.pythonhosted.org/packages/27/b7/62843a27c8baf9bbe4e698c9558fb7a2c02adf4d58a5962b77ef0e0c7133/sentencepiece-0.1.97-cp37-cp37m-macosx_10_9_x86_64.whl (1.2MB)\n",
      "\u001b[K     |████████████████████████████████| 1.2MB 10.2MB/s eta 0:00:01\n",
      "\u001b[?25hCollecting huggingface-hub>=0.4.0 (from sentence-transformers)\n",
      "\u001b[?25l  Downloading https://files.pythonhosted.org/packages/b2/2b/715a1924d470691a27b2dcdf472a9ef87f04718a897de25e68bf86ac0184/huggingface_hub-0.10.1-py3-none-any.whl (163kB)\n",
      "\u001b[K     |████████████████████████████████| 163kB 14.1MB/s eta 0:00:01\n",
      "\u001b[?25hRequirement already satisfied, skipping upgrade: pyyaml>=5.1 in /opt/anaconda3/lib/python3.7/site-packages (from transformers<5.0.0,>=4.6.0->sentence-transformers) (5.1.2)\n",
      "Collecting regex!=2019.12.17 (from transformers<5.0.0,>=4.6.0->sentence-transformers)\n",
      "\u001b[?25l  Downloading https://files.pythonhosted.org/packages/e6/4a/48779981af80558ac01f0f2c0d71c1214215bc74c9b824eb6581e94a847c/regex-2022.10.31-cp37-cp37m-macosx_10_9_x86_64.whl (294kB)\n",
      "\u001b[K     |████████████████████████████████| 296kB 8.4MB/s eta 0:00:01\n",
      "\u001b[?25hRequirement already satisfied, skipping upgrade: requests in /opt/anaconda3/lib/python3.7/site-packages (from transformers<5.0.0,>=4.6.0->sentence-transformers) (2.22.0)\n",
      "Requirement already satisfied, skipping upgrade: importlib-metadata; python_version < \"3.8\" in /opt/anaconda3/lib/python3.7/site-packages (from transformers<5.0.0,>=4.6.0->sentence-transformers) (0.23)\n",
      "Collecting tokenizers!=0.11.3,<0.14,>=0.11.1 (from transformers<5.0.0,>=4.6.0->sentence-transformers)\n",
      "\u001b[?25l  Downloading https://files.pythonhosted.org/packages/88/76/18179e00960d8d74aa47926ada81fad516894d0bfe25f684550a266f08ef/tokenizers-0.13.2-cp37-cp37m-macosx_10_11_x86_64.whl (3.8MB)\n",
      "\u001b[K     |████████████████████████████████| 3.8MB 7.8MB/s eta 0:00:01\n",
      "\u001b[?25hCollecting packaging>=20.0 (from transformers<5.0.0,>=4.6.0->sentence-transformers)\n",
      "\u001b[?25l  Downloading https://files.pythonhosted.org/packages/05/8e/8de486cbd03baba4deef4142bd643a3e7bbe954a784dc1bb17142572d127/packaging-21.3-py3-none-any.whl (40kB)\n",
      "\u001b[K     |████████████████████████████████| 40kB 6.5MB/s eta 0:00:01\n",
      "\u001b[?25hRequirement already satisfied, skipping upgrade: filelock in /opt/anaconda3/lib/python3.7/site-packages (from transformers<5.0.0,>=4.6.0->sentence-transformers) (3.0.12)\n",
      "Collecting typing-extensions (from torch>=1.6.0->sentence-transformers)\n",
      "  Downloading https://files.pythonhosted.org/packages/0b/8e/f1a0a5a76cfef77e1eb6004cb49e5f8d72634da638420b9ea492ce8305e8/typing_extensions-4.4.0-py3-none-any.whl\n",
      "Requirement already satisfied, skipping upgrade: pillow!=8.3.*,>=5.3.0 in /opt/anaconda3/lib/python3.7/site-packages (from torchvision->sentence-transformers) (6.2.0)\n",
      "Requirement already satisfied, skipping upgrade: joblib>=0.11 in /opt/anaconda3/lib/python3.7/site-packages (from scikit-learn->sentence-transformers) (0.13.2)\n",
      "Requirement already satisfied, skipping upgrade: six in /opt/anaconda3/lib/python3.7/site-packages (from nltk->sentence-transformers) (1.12.0)\n",
      "Requirement already satisfied, skipping upgrade: certifi>=2017.4.17 in /opt/anaconda3/lib/python3.7/site-packages (from requests->transformers<5.0.0,>=4.6.0->sentence-transformers) (2019.9.11)\n",
      "Requirement already satisfied, skipping upgrade: urllib3!=1.25.0,!=1.25.1,<1.26,>=1.21.1 in /opt/anaconda3/lib/python3.7/site-packages (from requests->transformers<5.0.0,>=4.6.0->sentence-transformers) (1.24.2)\n",
      "Requirement already satisfied, skipping upgrade: idna<2.9,>=2.5 in /opt/anaconda3/lib/python3.7/site-packages (from requests->transformers<5.0.0,>=4.6.0->sentence-transformers) (2.8)\n",
      "Requirement already satisfied, skipping upgrade: chardet<3.1.0,>=3.0.2 in /opt/anaconda3/lib/python3.7/site-packages (from requests->transformers<5.0.0,>=4.6.0->sentence-transformers) (3.0.4)\n",
      "Requirement already satisfied, skipping upgrade: zipp>=0.5 in /opt/anaconda3/lib/python3.7/site-packages (from importlib-metadata; python_version < \"3.8\"->transformers<5.0.0,>=4.6.0->sentence-transformers) (0.6.0)\n",
      "Requirement already satisfied, skipping upgrade: pyparsing!=3.0.5,>=2.0.2 in /opt/anaconda3/lib/python3.7/site-packages (from packaging>=20.0->transformers<5.0.0,>=4.6.0->sentence-transformers) (2.4.2)\n",
      "Requirement already satisfied, skipping upgrade: more-itertools in /opt/anaconda3/lib/python3.7/site-packages (from zipp>=0.5->importlib-metadata; python_version < \"3.8\"->transformers<5.0.0,>=4.6.0->sentence-transformers) (7.2.0)\n",
      "Building wheels for collected packages: sentence-transformers\n",
      "  Building wheel for sentence-transformers (setup.py) ... \u001b[?25ldone\n",
      "\u001b[?25h  Created wheel for sentence-transformers: filename=sentence_transformers-2.2.2-cp37-none-any.whl size=125921 sha256=f839b1aca945589d3c79ca958df7f6fe0437cb90838ad410d9fe256f1b2c6289\n",
      "  Stored in directory: /Users/alextough/Library/Caches/pip/wheels/8f/71/6f/ae689c194ab36bfae483c427e567fb31ea32eb400b8ee6835e\n",
      "Successfully built sentence-transformers\n",
      "Installing collected packages: packaging, typing-extensions, huggingface-hub, regex, tokenizers, transformers, torch, torchvision, sentencepiece, sentence-transformers\n",
      "  Found existing installation: packaging 19.2\n",
      "    Uninstalling packaging-19.2:\n",
      "      Successfully uninstalled packaging-19.2\n",
      "Successfully installed huggingface-hub-0.10.1 packaging-21.3 regex-2022.10.31 sentence-transformers-2.2.2 sentencepiece-0.1.97 tokenizers-0.13.2 torch-1.13.0 torchvision-0.14.0 transformers-4.24.0 typing-extensions-4.4.0\n"
     ]
    }
   ],
   "source": [
    "!python -m pip install -U sentence-transformers"
   ]
  },
  {
   "cell_type": "code",
   "execution_count": 3,
   "metadata": {},
   "outputs": [],
   "source": [
    "import pandas as pd\n",
    "from re import sub\n",
    "from sentence_transformers import SentenceTransformer"
   ]
  },
  {
   "cell_type": "code",
   "execution_count": 21,
   "metadata": {},
   "outputs": [],
   "source": [
    "from sklearn.cluster import KMeans"
   ]
  },
  {
   "cell_type": "code",
   "execution_count": 4,
   "metadata": {},
   "outputs": [],
   "source": [
    "\n",
    "#load file\n",
    "file = pd.read_json(\"dataset_instagram-hashtag-scraper_2022-10-14_18-12-08-523.json\") "
   ]
  },
  {
   "cell_type": "code",
   "execution_count": 10,
   "metadata": {},
   "outputs": [],
   "source": [
    "# clean up captions\n",
    "# want to remove newlines, exclamation points, emojis (for now), as well as hashtag symbols\n",
    "def clean_up_caption(caption):\n",
    "    caption = str(caption)\n",
    "    caption = caption.lower()\n",
    "    caption = sub(r\"[^A-Za-z0-9^À-ÿ]\", \" \", caption)\n",
    "    caption = sub(r\"#\", \"\", caption)\n",
    "    return caption"
   ]
  },
  {
   "cell_type": "code",
   "execution_count": 11,
   "metadata": {},
   "outputs": [],
   "source": [
    "file_cleaned = file\n",
    "file_cleaned.caption = file.caption.apply(lambda x: clean_up_caption(x))"
   ]
  },
  {
   "cell_type": "code",
   "execution_count": 12,
   "metadata": {},
   "outputs": [],
   "source": [
    "file_model = file_cleaned.copy()\n",
    "file_model = file_model[file_model.caption.str.len()>1]\n",
    "sent = [row for row in file_model.caption]"
   ]
  },
  {
   "cell_type": "code",
   "execution_count": 17,
   "metadata": {},
   "outputs": [
    {
     "name": "stderr",
     "output_type": "stream",
     "text": [
      "Downloading: 100%|██████████| 539M/539M [00:34<00:00, 15.4MB/s]\n",
      "Downloading: 100%|██████████| 53.0/53.0 [00:00<00:00, 8.54kB/s]\n",
      "Downloading: 100%|██████████| 112/112 [00:00<00:00, 20.7kB/s]\n",
      "Downloading: 100%|██████████| 1.96M/1.96M [00:00<00:00, 8.37MB/s]\n",
      "Downloading: 100%|██████████| 452/452 [00:00<00:00, 49.4kB/s]\n",
      "Downloading: 100%|██████████| 996k/996k [00:00<00:00, 8.45MB/s]\n",
      "Downloading: 100%|██████████| 341/341 [00:00<00:00, 62.4kB/s]\n"
     ]
    }
   ],
   "source": [
    "BERT_model = SentenceTransformer('distiluse-base-multilingual-cased-v1') "
   ]
  },
  {
   "cell_type": "code",
   "execution_count": 19,
   "metadata": {},
   "outputs": [],
   "source": [
    "captions = file_model.caption.tolist()\n",
    "first1000captions = captions[0:1000]\n",
    "sentence_embeddings = BERT_model.encode(first1000captions)\n"
   ]
  },
  {
   "cell_type": "code",
   "execution_count": 22,
   "metadata": {},
   "outputs": [],
   "source": [
    "# it doesn't really matter how many clusters we form, groups will be formed regardless, and we care about the becoming \n",
    "# of these groups in general\n",
    "model = KMeans(n_clusters=2, max_iter=1000, random_state=True, n_init=50).fit(X=sentence_embeddings.astype('double'))"
   ]
  },
  {
   "cell_type": "code",
   "execution_count": 43,
   "metadata": {},
   "outputs": [],
   "source": [
    "# inspired from https://theaidigest.in/how-to-cluster-text-documents-using-bert/\n",
    "num_clusters = 2\n",
    "clustered_sentences = [[] for i in range(num_clusters)]\n",
    "cluster_assignment = model.labels_\n",
    "for sentence_id, cluster_id in enumerate(cluster_assignment):\n",
    "    clustered_sentences[cluster_id].append(first1000captions[sentence_id])"
   ]
  },
  {
   "cell_type": "code",
   "execution_count": 54,
   "metadata": {},
   "outputs": [
    {
     "name": "stdout",
     "output_type": "stream",
     "text": [
      "Cluster  1\n",
      "['  posted    tepuyroraima    viva    a    aventura    de    conhecer    o    tepuyroraima    no    melhor    passeio    da    sua    vida    venha    conosco    para    o    mágico    mundo    perdido    vive    la    aventura    de    conocer    el    tepuyroraima    en    el    mejor    tour    de    tu    vida    ven    con    nosotros    al    mágico    mundo    perdido    agencia    de    venezuela    montanistasvenezuela    agencias    extranjeras    mochileirosbrasil    noviembre    mochilerosamerica    diciembre    usa    nuestro    hashtag    tepuyroraima    portal    visitevenezuela    info    al    dm    de    montanistasvenezuela    montañistasvenezuela    trekkingamérica    pncanaima    roraima    tepuyroraima    canaima    gransabana    senderistasvenezuela    venezuela    inspiravenezuela    visitevenezuela    marcapaísven    venezuelaabiertaalfuturo    nosvemosenlamontaña    montañistas    montanhas    trilhas    trilhandotrilhas    trilhaseaventuras    trilheirasdobrasil    trekkingbrasil  ', '  en    la    pared    del    salto    ángel    haz    tu    sueño    realidad    este    diciembre    desde    4    hasta    el    8    de    diciembre    del    2022    realiza    tu    reserva    la    súper    guía    atrévete    a    vivir    nuevas    experiencias    con    la    mejor    agencia    de    turismo    mochileroextremo    venezuela    saltoángel    canaima    laguna    puravida    viajaconmochileroextremo    gentebuenavibra    senderista    teammochilero    avila    pro    fotografia    aventura    súperguía    aventurera    soyavilera    goobvibes    cute    mochileroextremo    skytravelag  ', '  viajar    con    nosotros    es    toda    una    experiencia    tenemos    planes    para    todos    los    gustos    desde    destinos    cálidos    cómo    cayosal    o    destinos    fríos    como    mérida    pero    para    los    más    aventureros    también    tenemos    viajes    semanales    a    canaima    y    para    los    que    quieren    vivir    cada    día    como    si    fuera    el    último    tenemos    labambola    que    te    ofrece    diversión    pura    tú    decides    como    vivir    tu    experienciamaconda    familiamaconda    macondaturismo    viajes    vacaciones    venezuela    valencia    merida    conocevenezuela    fullday    coloniatovar    turismo    viaje    turistas    playas    cayos    venezuela    aventura    tour    excursion    paisaje    diversion  ', '  te    ofrecemos    las    adquiere    tu    con    amelitoursvip    58    414    8822905    estamos    listos    para    atender    tu    solicitud    amelitoursvip    caracas    maracaibo    tachira    caracas    valencia    barquisimeto    promo    losroques    canaima    porlamar    margarita    maturin    elvigia    tachira    venezuela    turismo    promosviaje    agenciadeviaje    viaje    letsgo    viajes    viajar    promovenezuela    promosespeciales    tarifasespeciales  ']\n",
      "\n",
      "Cluster  2\n",
      "['  avaa    una    vez    más    dejó    su    huella    verde    como    becarios    de    avaa    creemos    en    el    gran    impacto    que    podemos    generar    en    la    sociedad    con    pequeñas    acciones    en    esta    oportunidad    se    trata    de    una    jornada    de    donación    que    fue    posible    gracias    al    aporte    realizado    por    distintos    becarios    a    través    de    un    voluntario    por    la    vida    uvplv    y    nuestra    querida    compañera    giselle    delfante    quien    hizo    la    entrega    de    los    insumos    a    diferentes    comunidades    de    canaima    kanwuaripa    tururiwaipa    y    kamarata    fueron    entregados    juguetes    ropa    y    útiles    escolares    en    diferentes    comunidades    indígenas    muchas    veces    no    nos    damos    cuenta    de    lo    afortunados    que    somos    acciones    como    estas    demuestran    que    en    la    medida    de    nuestras    posibilidades    siempre    podemos    impactar    positivamente    la    vida    de    aquellos    que    más    lo    necesitan    avaa    avaavoluntariado    proexcelencia    uvplv    donacionvoluntaria    donacionesvenezuela    canaima    pueblosindígenas  ', '  tomanota    si    deseas    contactar    con    el    equipo    de    canaima    gnu    linux    solo    debes    escribir    al    correo    que    aparece    en    el    afiche    realiza    preguntas    resuelve    dudas    o    pide    ayuda    en    caso    de    presentar    algún    inconveniente    con    el    sistema    no    esperes    más    canaima    gnu    linux    se    encuentra    disponible    a    solo    un    click    de    distancia    canaima    gnu    linux    soporte    correo    información    imawari    sistemaoperativo    venezuela  ', '  entero    disponible    precio    40    tallas    m    l    c    c    paseo    las    mercedes    nivel    pb    galería    premium    delivery    en    caracas    envíos    nacionales    más    info    al    dm    whatsapp    0424    1642976    trajesdebañosenteroscaracas    trajesdebaños    vacacionescaracas    trajesdebañosvenezuela    vacacionesvenezuela    morrocoy    canaima    saltoangel    losroques    venezuela    caracas    barquisimeto    vestidosdeplayacaracas    lentesdesolcaracas    lentesdesol    lentesdesolvenezuela    trajesdebañoscaracas    bikiniscaracas    vestidosdeplaya    playasdevenezuela    playasvenezuela  ', '  vestido    disponible    precio    30    tallas    s    m    l    c    c    paseo    las    mercedes    nivel    pb    galería    premium    delivery    en    caracas    envíos    nacionales    más    info    al    dm    whatsapp    0424    1642976    trajesdebañosenteroscaracas    trajesdebaños    vacacionescaracas    trajesdebañosvenezuela    vacacionesvenezuela    morrocoy    canaima    saltoangel    losroques    venezuela    caracas    barquisimeto    vestidosdeplayacaracas    lentesdesolcaracas    lentesdesol    lentesdesolvenezuela    trajesdebañoscaracas    bikiniscaracas    vestidosdeplaya    playasdevenezuela    playasvenezuela  ']\n",
      "\n"
     ]
    }
   ],
   "source": [
    "for i, cluster in enumerate(clustered_sentences):\n",
    "    print(\"Cluster \", i+1)\n",
    "    print(cluster[0:4])\n",
    "    print(\"\")"
   ]
  },
  {
   "cell_type": "markdown",
   "metadata": {},
   "source": [
    "Cluster 1: \n",
    "posted    tepuyroraima    viva    a    aventura    de    conhecer    o    tepuyroraima    no    melhor    passeio    da    sua    vida    venha    conosco    para    o    mágico    mundo    perdido    vive    la    aventura    de    conocer    el    tepuyroraima    en    el    mejor    tour    de    tu    vida    ven    con    nosotros    al    mágico    mundo    perdido    agencia    de    venezuela    montanistasvenezuela    agencias    extranjeras    mochileirosbrasil    noviembre    mochilerosamerica    diciembre    usa    nuestro    hashtag    tepuyroraima    portal    visitevenezuela    info    al    dm    de    montanistasvenezuela    montañistasvenezuela    trekkingamérica    pncanaima    roraima    tepuyroraima    canaima    gransabana    senderistasvenezuela    venezuela    inspiravenezuela    visitevenezuela    marcapaísven    venezuelaabiertaalfuturo    nosvemosenlamontaña    montañistas    montanhas    trilhas    trilhandotrilhas    trilhaseaventuras    trilheirasdobrasil    trekkingbrasil\n",
    "\n",
    "en    la    pared    del    salto    ángel    haz    tu    sueño    realidad    este    diciembre    desde    4    hasta    el    8    de    diciembre    del    2022    realiza    tu    reserva    la    súper    guía    atrévete    a    vivir    nuevas    experiencias    con    la    mejor    agencia    de    turismo    mochileroextremo    venezuela    saltoángel    canaima    laguna    puravida    viajaconmochileroextremo    gentebuenavibra    senderista    teammochilero    avila    pro    fotografia    aventura    súperguía    aventurera    soyavilera    goobvibes    cute    mochileroextremo    skytravelag\n",
    "\n",
    "viajar    con    nosotros    es    toda    una    experiencia    tenemos    planes    para    todos    los    gustos    desde    destinos    cálidos    cómo    cayosal    o    destinos    fríos    como    mérida    pero    para    los    más    aventureros    también    tenemos    viajes    semanales    a    canaima    y    para    los    que    quieren    vivir    cada    día    como    si    fuera    el    último    tenemos    labambola    que    te    ofrece    diversión    pura    tú    decides    como    vivir    tu    experienciamaconda    familiamaconda    macondaturismo    viajes    vacaciones    venezuela    valencia    merida    conocevenezuela    fullday    coloniatovar    turismo    viaje    turistas    playas    cayos    venezuela    aventura    tour    excursion    paisaje    diversion\n",
    "\n",
    "te    ofrecemos    las    adquiere    tu    con    amelitoursvip    58    414    8822905    estamos    listos    para    atender    tu    solicitud    amelitoursvip    caracas    maracaibo    tachira    caracas    valencia    barquisimeto    promo    losroques    canaima    porlamar    margarita    maturin    elvigia    tachira    venezuela    turismo    promosviaje    agenciadeviaje    viaje    letsgo    viajes    viajar    promovenezuela    promosespeciales    tarifasespeciales\n",
    "\n",
    "\n",
    "Cluster 2:\n",
    "\n",
    "avaa    una    vez    más    dejó    su    huella    verde    como    becarios    de    avaa    creemos    en    el    gran    impacto    que    podemos    generar    en    la    sociedad    con    pequeñas    acciones    en    esta    oportunidad    se    trata    de    una    jornada    de    donación    que    fue    posible    gracias    al    aporte    realizado    por    distintos    becarios    a    través    de    un    voluntario    por    la    vida    uvplv    y    nuestra    querida    compañera    giselle    delfante    quien    hizo    la    entrega    de    los    insumos    a    diferentes    comunidades    de    canaima    kanwuaripa    tururiwaipa    y    kamarata    fueron    entregados    juguetes    ropa    y    útiles    escolares    en    diferentes    comunidades    indígenas    muchas    veces    no    nos    damos    cuenta    de    lo    afortunados    que    somos    acciones    como    estas    demuestran    que    en    la    medida    de    nuestras    posibilidades    siempre    podemos    impactar    positivamente    la    vida    de    aquellos    que    más    lo    necesitan    avaa    avaavoluntariado    proexcelencia    uvplv    donacionvoluntaria    donacionesvenezuela    canaima    pueblosindígenas\n",
    "\n",
    "tomanota    si    deseas    contactar    con    el    equipo    de    canaima    gnu    linux    solo    debes    escribir    al    correo    que    aparece    en    el    afiche    realiza    preguntas    resuelve    dudas    o    pide    ayuda    en    caso    de    presentar    algún    inconveniente    con    el    sistema    no    esperes    más    canaima    gnu    linux    se    encuentra    disponible    a    solo    un    click    de    distancia    canaima    gnu    linux    soporte    correo    información    imawari    sistemaoperativo    venezuela\n",
    "\n",
    "entero    disponible    precio    40    tallas    m    l    c    c    paseo    las    mercedes    nivel    pb    galería    premium    delivery    en    caracas    envíos    nacionales    más    info    al    dm    whatsapp    0424    1642976    trajesdebañosenteroscaracas    trajesdebaños    vacacionescaracas    trajesdebañosvenezuela    vacacionesvenezuela    morrocoy    canaima    saltoangel    losroques    venezuela    caracas    barquisimeto    vestidosdeplayacaracas    lentesdesolcaracas    lentesdesol    lentesdesolvenezuela    trajesdebañoscaracas    bikiniscaracas    vestidosdeplaya    playasdevenezuela    playasvenezuela\n",
    "\n",
    "\n",
    "vestido    disponible    precio    30    tallas    s    m    l    c    c    paseo    las    mercedes    nivel    pb    galería    premium    delivery    en    caracas    envíos    nacionales    más    info    al    dm    whatsapp    0424    1642976    trajesdebañosenteroscaracas    trajesdebaños    vacacionescaracas    trajesdebañosvenezuela    vacacionesvenezuela    morrocoy    canaima    saltoangel    losroques    venezuela    caracas    barquisimeto    vestidosdeplayacaracas    lentesdesolcaracas    lentesdesol    lentesdesolvenezuela    trajesdebañoscaracas    bikiniscaracas    vestidosdeplaya    playasdevenezuela    playasvenezuela\n",
    "\n",
    "\n"
   ]
  }
 ],
 "metadata": {
  "kernelspec": {
   "display_name": "Python 3.7.4 ('base')",
   "language": "python",
   "name": "python3"
  },
  "language_info": {
   "codemirror_mode": {
    "name": "ipython",
    "version": 3
   },
   "file_extension": ".py",
   "mimetype": "text/x-python",
   "name": "python",
   "nbconvert_exporter": "python",
   "pygments_lexer": "ipython3",
   "version": "3.7.4"
  },
  "orig_nbformat": 4,
  "vscode": {
   "interpreter": {
    "hash": "40d3a090f54c6569ab1632332b64b2c03c39dcf918b08424e98f38b5ae0af88f"
   }
  }
 },
 "nbformat": 4,
 "nbformat_minor": 2
}
