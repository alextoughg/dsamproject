{
 "cells": [
  {
   "cell_type": "code",
   "execution_count": null,
   "metadata": {},
   "outputs": [],
   "source": [
    "!python -m pip install -U sentence-transformers"
   ]
  },
  {
   "cell_type": "code",
   "execution_count": 3,
   "metadata": {},
   "outputs": [],
   "source": [
    "import pandas as pd\n",
    "from re import sub\n",
    "from sentence_transformers import SentenceTransformer"
   ]
  },
  {
   "cell_type": "code",
   "execution_count": 21,
   "metadata": {},
   "outputs": [],
   "source": [
    "from sklearn.cluster import KMeans"
   ]
  },
  {
   "cell_type": "code",
   "execution_count": 4,
   "metadata": {},
   "outputs": [],
   "source": [
    "\n",
    "#load file\n",
    "file = pd.read_json(\"dataset_instagram-hashtag-scraper_2022-10-14_18-12-08-523.json\") "
   ]
  },
  {
   "cell_type": "code",
   "execution_count": 10,
   "metadata": {},
   "outputs": [],
   "source": [
    "# clean up captions\n",
    "# want to remove newlines, exclamation points, emojis (for now), as well as hashtag symbols\n",
    "def clean_up_caption(caption):\n",
    "    caption = str(caption)\n",
    "    caption = caption.lower()\n",
    "    caption = sub(r\"[^A-Za-z0-9^À-ÿ]\", \" \", caption)\n",
    "    caption = sub(r\"#\", \"\", caption)\n",
    "    return caption"
   ]
  },
  {
   "cell_type": "code",
   "execution_count": 11,
   "metadata": {},
   "outputs": [],
   "source": [
    "file_cleaned = file\n",
    "file_cleaned.caption = file.caption.apply(lambda x: clean_up_caption(x))"
   ]
  },
  {
   "cell_type": "code",
   "execution_count": 12,
   "metadata": {},
   "outputs": [],
   "source": [
    "file_model = file_cleaned.copy()\n",
    "file_model = file_model[file_model.caption.str.len()>1]\n",
    "sent = [row for row in file_model.caption]"
   ]
  },
  {
   "cell_type": "code",
   "execution_count": null,
   "metadata": {},
   "outputs": [],
   "source": [
    "BERT_model = SentenceTransformer('distiluse-base-multilingual-cased-v1') "
   ]
  },
  {
   "cell_type": "code",
   "execution_count": 19,
   "metadata": {},
   "outputs": [],
   "source": [
    "captions = file_model.caption.tolist()\n",
    "first1000captions = captions[0:1000]\n",
    "sentence_embeddings = BERT_model.encode(first1000captions)\n"
   ]
  },
  {
   "cell_type": "code",
   "execution_count": 22,
   "metadata": {},
   "outputs": [],
   "source": [
    "# it doesn't really matter how many clusters we form, groups will be formed regardless, and we care about the becoming \n",
    "# of these groups in general\n",
    "model = KMeans(n_clusters=2, max_iter=1000, random_state=True, n_init=50).fit(X=sentence_embeddings.astype('double'))"
   ]
  },
  {
   "cell_type": "code",
   "execution_count": 43,
   "metadata": {},
   "outputs": [],
   "source": [
    "# inspired from https://theaidigest.in/how-to-cluster-text-documents-using-bert/\n",
    "num_clusters = 2\n",
    "clustered_sentences = [[] for i in range(num_clusters)]\n",
    "cluster_assignment = model.labels_\n",
    "for sentence_id, cluster_id in enumerate(cluster_assignment):\n",
    "    clustered_sentences[cluster_id].append(first1000captions[sentence_id])"
   ]
  },
  {
   "cell_type": "code",
   "execution_count": 54,
   "metadata": {},
   "outputs": [
    {
     "name": "stdout",
     "output_type": "stream",
     "text": [
      "Cluster  1\n",
      "['  posted    tepuyroraima    viva    a    aventura    de    conhecer    o    tepuyroraima    no    melhor    passeio    da    sua    vida    venha    conosco    para    o    mágico    mundo    perdido    vive    la    aventura    de    conocer    el    tepuyroraima    en    el    mejor    tour    de    tu    vida    ven    con    nosotros    al    mágico    mundo    perdido    agencia    de    venezuela    montanistasvenezuela    agencias    extranjeras    mochileirosbrasil    noviembre    mochilerosamerica    diciembre    usa    nuestro    hashtag    tepuyroraima    portal    visitevenezuela    info    al    dm    de    montanistasvenezuela    montañistasvenezuela    trekkingamérica    pncanaima    roraima    tepuyroraima    canaima    gransabana    senderistasvenezuela    venezuela    inspiravenezuela    visitevenezuela    marcapaísven    venezuelaabiertaalfuturo    nosvemosenlamontaña    montañistas    montanhas    trilhas    trilhandotrilhas    trilhaseaventuras    trilheirasdobrasil    trekkingbrasil  ', '  en    la    pared    del    salto    ángel    haz    tu    sueño    realidad    este    diciembre    desde    4    hasta    el    8    de    diciembre    del    2022    realiza    tu    reserva    la    súper    guía    atrévete    a    vivir    nuevas    experiencias    con    la    mejor    agencia    de    turismo    mochileroextremo    venezuela    saltoángel    canaima    laguna    puravida    viajaconmochileroextremo    gentebuenavibra    senderista    teammochilero    avila    pro    fotografia    aventura    súperguía    aventurera    soyavilera    goobvibes    cute    mochileroextremo    skytravelag  ', '  viajar    con    nosotros    es    toda    una    experiencia    tenemos    planes    para    todos    los    gustos    desde    destinos    cálidos    cómo    cayosal    o    destinos    fríos    como    mérida    pero    para    los    más    aventureros    también    tenemos    viajes    semanales    a    canaima    y    para    los    que    quieren    vivir    cada    día    como    si    fuera    el    último    tenemos    labambola    que    te    ofrece    diversión    pura    tú    decides    como    vivir    tu    experienciamaconda    familiamaconda    macondaturismo    viajes    vacaciones    venezuela    valencia    merida    conocevenezuela    fullday    coloniatovar    turismo    viaje    turistas    playas    cayos    venezuela    aventura    tour    excursion    paisaje    diversion  ', '  te    ofrecemos    las    adquiere    tu    con    amelitoursvip    58    414    8822905    estamos    listos    para    atender    tu    solicitud    amelitoursvip    caracas    maracaibo    tachira    caracas    valencia    barquisimeto    promo    losroques    canaima    porlamar    margarita    maturin    elvigia    tachira    venezuela    turismo    promosviaje    agenciadeviaje    viaje    letsgo    viajes    viajar    promovenezuela    promosespeciales    tarifasespeciales  ']\n",
      "\n",
      "Cluster  2\n",
      "['  avaa    una    vez    más    dejó    su    huella    verde    como    becarios    de    avaa    creemos    en    el    gran    impacto    que    podemos    generar    en    la    sociedad    con    pequeñas    acciones    en    esta    oportunidad    se    trata    de    una    jornada    de    donación    que    fue    posible    gracias    al    aporte    realizado    por    distintos    becarios    a    través    de    un    voluntario    por    la    vida    uvplv    y    nuestra    querida    compañera    giselle    delfante    quien    hizo    la    entrega    de    los    insumos    a    diferentes    comunidades    de    canaima    kanwuaripa    tururiwaipa    y    kamarata    fueron    entregados    juguetes    ropa    y    útiles    escolares    en    diferentes    comunidades    indígenas    muchas    veces    no    nos    damos    cuenta    de    lo    afortunados    que    somos    acciones    como    estas    demuestran    que    en    la    medida    de    nuestras    posibilidades    siempre    podemos    impactar    positivamente    la    vida    de    aquellos    que    más    lo    necesitan    avaa    avaavoluntariado    proexcelencia    uvplv    donacionvoluntaria    donacionesvenezuela    canaima    pueblosindígenas  ', '  tomanota    si    deseas    contactar    con    el    equipo    de    canaima    gnu    linux    solo    debes    escribir    al    correo    que    aparece    en    el    afiche    realiza    preguntas    resuelve    dudas    o    pide    ayuda    en    caso    de    presentar    algún    inconveniente    con    el    sistema    no    esperes    más    canaima    gnu    linux    se    encuentra    disponible    a    solo    un    click    de    distancia    canaima    gnu    linux    soporte    correo    información    imawari    sistemaoperativo    venezuela  ', '  entero    disponible    precio    40    tallas    m    l    c    c    paseo    las    mercedes    nivel    pb    galería    premium    delivery    en    caracas    envíos    nacionales    más    info    al    dm    whatsapp    0424    1642976    trajesdebañosenteroscaracas    trajesdebaños    vacacionescaracas    trajesdebañosvenezuela    vacacionesvenezuela    morrocoy    canaima    saltoangel    losroques    venezuela    caracas    barquisimeto    vestidosdeplayacaracas    lentesdesolcaracas    lentesdesol    lentesdesolvenezuela    trajesdebañoscaracas    bikiniscaracas    vestidosdeplaya    playasdevenezuela    playasvenezuela  ', '  vestido    disponible    precio    30    tallas    s    m    l    c    c    paseo    las    mercedes    nivel    pb    galería    premium    delivery    en    caracas    envíos    nacionales    más    info    al    dm    whatsapp    0424    1642976    trajesdebañosenteroscaracas    trajesdebaños    vacacionescaracas    trajesdebañosvenezuela    vacacionesvenezuela    morrocoy    canaima    saltoangel    losroques    venezuela    caracas    barquisimeto    vestidosdeplayacaracas    lentesdesolcaracas    lentesdesol    lentesdesolvenezuela    trajesdebañoscaracas    bikiniscaracas    vestidosdeplaya    playasdevenezuela    playasvenezuela  ']\n",
      "\n"
     ]
    }
   ],
   "source": [
    "for i, cluster in enumerate(clustered_sentences):\n",
    "    print(\"Cluster \", i+1)\n",
    "    print(cluster[0:4])\n",
    "    print(\"\")"
   ]
  },
  {
   "cell_type": "markdown",
   "metadata": {},
   "source": [
    "Cluster 1: \n",
    "posted    tepuyroraima    viva    a    aventura    de    conhecer    o    tepuyroraima    no    melhor    passeio    da    sua    vida    venha    conosco    para    o    mágico    mundo    perdido    vive    la    aventura    de    conocer    el    tepuyroraima    en    el    mejor    tour    de    tu    vida    ven    con    nosotros    al    mágico    mundo    perdido    agencia    de    venezuela    montanistasvenezuela    agencias    extranjeras    mochileirosbrasil    noviembre    mochilerosamerica    diciembre    usa    nuestro    hashtag    tepuyroraima    portal    visitevenezuela    info    al    dm    de    montanistasvenezuela    montañistasvenezuela    trekkingamérica    pncanaima    roraima    tepuyroraima    canaima    gransabana    senderistasvenezuela    venezuela    inspiravenezuela    visitevenezuela    marcapaísven    venezuelaabiertaalfuturo    nosvemosenlamontaña    montañistas    montanhas    trilhas    trilhandotrilhas    trilhaseaventuras    trilheirasdobrasil    trekkingbrasil\n",
    "\n",
    "en    la    pared    del    salto    ángel    haz    tu    sueño    realidad    este    diciembre    desde    4    hasta    el    8    de    diciembre    del    2022    realiza    tu    reserva    la    súper    guía    atrévete    a    vivir    nuevas    experiencias    con    la    mejor    agencia    de    turismo    mochileroextremo    venezuela    saltoángel    canaima    laguna    puravida    viajaconmochileroextremo    gentebuenavibra    senderista    teammochilero    avila    pro    fotografia    aventura    súperguía    aventurera    soyavilera    goobvibes    cute    mochileroextremo    skytravelag\n",
    "\n",
    "viajar    con    nosotros    es    toda    una    experiencia    tenemos    planes    para    todos    los    gustos    desde    destinos    cálidos    cómo    cayosal    o    destinos    fríos    como    mérida    pero    para    los    más    aventureros    también    tenemos    viajes    semanales    a    canaima    y    para    los    que    quieren    vivir    cada    día    como    si    fuera    el    último    tenemos    labambola    que    te    ofrece    diversión    pura    tú    decides    como    vivir    tu    experienciamaconda    familiamaconda    macondaturismo    viajes    vacaciones    venezuela    valencia    merida    conocevenezuela    fullday    coloniatovar    turismo    viaje    turistas    playas    cayos    venezuela    aventura    tour    excursion    paisaje    diversion\n",
    "\n",
    "te    ofrecemos    las    adquiere    tu    con    amelitoursvip    58    414    8822905    estamos    listos    para    atender    tu    solicitud    amelitoursvip    caracas    maracaibo    tachira    caracas    valencia    barquisimeto    promo    losroques    canaima    porlamar    margarita    maturin    elvigia    tachira    venezuela    turismo    promosviaje    agenciadeviaje    viaje    letsgo    viajes    viajar    promovenezuela    promosespeciales    tarifasespeciales\n",
    "\n",
    "\n",
    "Cluster 2:\n",
    "\n",
    "avaa    una    vez    más    dejó    su    huella    verde    como    becarios    de    avaa    creemos    en    el    gran    impacto    que    podemos    generar    en    la    sociedad    con    pequeñas    acciones    en    esta    oportunidad    se    trata    de    una    jornada    de    donación    que    fue    posible    gracias    al    aporte    realizado    por    distintos    becarios    a    través    de    un    voluntario    por    la    vida    uvplv    y    nuestra    querida    compañera    giselle    delfante    quien    hizo    la    entrega    de    los    insumos    a    diferentes    comunidades    de    canaima    kanwuaripa    tururiwaipa    y    kamarata    fueron    entregados    juguetes    ropa    y    útiles    escolares    en    diferentes    comunidades    indígenas    muchas    veces    no    nos    damos    cuenta    de    lo    afortunados    que    somos    acciones    como    estas    demuestran    que    en    la    medida    de    nuestras    posibilidades    siempre    podemos    impactar    positivamente    la    vida    de    aquellos    que    más    lo    necesitan    avaa    avaavoluntariado    proexcelencia    uvplv    donacionvoluntaria    donacionesvenezuela    canaima    pueblosindígenas\n",
    "\n",
    "tomanota    si    deseas    contactar    con    el    equipo    de    canaima    gnu    linux    solo    debes    escribir    al    correo    que    aparece    en    el    afiche    realiza    preguntas    resuelve    dudas    o    pide    ayuda    en    caso    de    presentar    algún    inconveniente    con    el    sistema    no    esperes    más    canaima    gnu    linux    se    encuentra    disponible    a    solo    un    click    de    distancia    canaima    gnu    linux    soporte    correo    información    imawari    sistemaoperativo    venezuela\n",
    "\n",
    "entero    disponible    precio    40    tallas    m    l    c    c    paseo    las    mercedes    nivel    pb    galería    premium    delivery    en    caracas    envíos    nacionales    más    info    al    dm    whatsapp    0424    1642976    trajesdebañosenteroscaracas    trajesdebaños    vacacionescaracas    trajesdebañosvenezuela    vacacionesvenezuela    morrocoy    canaima    saltoangel    losroques    venezuela    caracas    barquisimeto    vestidosdeplayacaracas    lentesdesolcaracas    lentesdesol    lentesdesolvenezuela    trajesdebañoscaracas    bikiniscaracas    vestidosdeplaya    playasdevenezuela    playasvenezuela\n",
    "\n",
    "\n",
    "vestido    disponible    precio    30    tallas    s    m    l    c    c    paseo    las    mercedes    nivel    pb    galería    premium    delivery    en    caracas    envíos    nacionales    más    info    al    dm    whatsapp    0424    1642976    trajesdebañosenteroscaracas    trajesdebaños    vacacionescaracas    trajesdebañosvenezuela    vacacionesvenezuela    morrocoy    canaima    saltoangel    losroques    venezuela    caracas    barquisimeto    vestidosdeplayacaracas    lentesdesolcaracas    lentesdesol    lentesdesolvenezuela    trajesdebañoscaracas    bikiniscaracas    vestidosdeplaya    playasdevenezuela    playasvenezuela\n",
    "\n",
    "\n"
   ]
  }
 ],
 "metadata": {
  "kernelspec": {
   "display_name": "Python 3.7.4 ('base')",
   "language": "python",
   "name": "python3"
  },
  "language_info": {
   "codemirror_mode": {
    "name": "ipython",
    "version": 3
   },
   "file_extension": ".py",
   "mimetype": "text/x-python",
   "name": "python",
   "nbconvert_exporter": "python",
   "pygments_lexer": "ipython3",
   "version": "3.7.4"
  },
  "orig_nbformat": 4,
  "vscode": {
   "interpreter": {
    "hash": "40d3a090f54c6569ab1632332b64b2c03c39dcf918b08424e98f38b5ae0af88f"
   }
  }
 },
 "nbformat": 4,
 "nbformat_minor": 2
}
