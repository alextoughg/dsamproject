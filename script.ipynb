{
 "cells": [
  {
   "cell_type": "code",
   "execution_count": null,
   "metadata": {},
   "outputs": [],
   "source": [
    "!python -m pip install -U gensim"
   ]
  },
  {
   "cell_type": "code",
   "execution_count": 2,
   "metadata": {},
   "outputs": [],
   "source": [
    "import pandas as pd\n",
    "from re import sub\n",
    "from gensim.models.phrases import Phrases, Phraser\n",
    "\n",
    "#load file\n",
    "file = pd.read_json(\"dataset_instagram-hashtag-scraper_2022-10-14_18-12-08-523.json\") "
   ]
  },
  {
   "cell_type": "code",
   "execution_count": 3,
   "metadata": {},
   "outputs": [],
   "source": [
    "# clean up captions\n",
    "# want to remove newlines, exclamation points, emojis (for now), as well as hashtag symbols\n",
    "def caption_to_word_list(caption):\n",
    "    caption = str(caption)\n",
    "    caption = caption.lower()\n",
    "    caption = sub(r\"[^A-Za-z0-9^À-ÿ]\", \" \", caption)\n",
    "    caption = sub(r\"#\", \"\", caption)\n",
    "    caption = caption.split()\n",
    "    return caption"
   ]
  },
  {
   "cell_type": "code",
   "execution_count": 4,
   "metadata": {},
   "outputs": [],
   "source": [
    "file_cleaned = file\n",
    "file_cleaned.caption = file.caption.apply(lambda x: caption_to_word_list(x))"
   ]
  },
  {
   "cell_type": "code",
   "execution_count": 5,
   "metadata": {},
   "outputs": [],
   "source": [
    "file_model = file_cleaned.copy()\n",
    "file_model = file_model = file_model[file_model.caption.str.len()>1]\n",
    "sent = [row for row in file_model.caption]\n",
    "# Sources: https://towardsdatascience.com/cleaning-and-extracting-json-from-pandas-dataframes-f0c15f93cb38, \n",
    "# https://github.com/rafaljanwojcik/Unsupervised-Sentiment-Analysis/blob/master/preprocessing_and_embeddings/Preprocessing_and_Embeddings.ipynb \n"
   ]
  }
 ],
 "metadata": {
  "kernelspec": {
   "display_name": "Python 3.7.4 ('base')",
   "language": "python",
   "name": "python3"
  },
  "language_info": {
   "codemirror_mode": {
    "name": "ipython",
    "version": 3
   },
   "file_extension": ".py",
   "mimetype": "text/x-python",
   "name": "python",
   "nbconvert_exporter": "python",
   "pygments_lexer": "ipython3",
   "version": "3.7.4"
  },
  "orig_nbformat": 4,
  "vscode": {
   "interpreter": {
    "hash": "40d3a090f54c6569ab1632332b64b2c03c39dcf918b08424e98f38b5ae0af88f"
   }
  }
 },
 "nbformat": 4,
 "nbformat_minor": 2
}
