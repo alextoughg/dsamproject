{
 "cells": [
  {
   "cell_type": "code",
   "execution_count": null,
   "metadata": {},
   "outputs": [],
   "source": [
    "!python -m pip install -U gensim"
   ]
  },
  {
   "cell_type": "code",
   "execution_count": 18,
   "metadata": {},
   "outputs": [],
   "source": [
    "# From tutorial https://towardsdatascience.com/unsupervised-sentiment-analysis-a38bf1906483 \n",
    "import pandas as pd\n",
    "from re import sub\n",
    "from gensim.models.phrases import Phrases, Phraser\n",
    "from gensim.models import Word2Vec\n",
    "import multiprocessing\n",
    "from sklearn.cluster import KMeans"
   ]
  },
  {
   "cell_type": "code",
   "execution_count": null,
   "metadata": {},
   "outputs": [],
   "source": [
    "\n",
    "#load file\n",
    "file = pd.read_json(\"dataset_instagram-hashtag-scraper_2022-10-14_18-12-08-523.json\") "
   ]
  },
  {
   "cell_type": "code",
   "execution_count": null,
   "metadata": {},
   "outputs": [],
   "source": [
    "# clean up captions\n",
    "# want to remove newlines, exclamation points, emojis (for now), as well as hashtag symbols\n",
    "def caption_to_word_list(caption):\n",
    "    caption = str(caption)\n",
    "    caption = caption.lower()\n",
    "    caption = sub(r\"[^A-Za-z0-9^À-ÿ]\", \" \", caption)\n",
    "    caption = sub(r\"#\", \"\", caption)\n",
    "    caption = caption.split()\n",
    "    return caption"
   ]
  },
  {
   "cell_type": "code",
   "execution_count": null,
   "metadata": {},
   "outputs": [],
   "source": [
    "file_cleaned = file\n",
    "file_cleaned.caption = file.caption.apply(lambda x: caption_to_word_list(x))"
   ]
  },
  {
   "cell_type": "code",
   "execution_count": null,
   "metadata": {},
   "outputs": [],
   "source": [
    "file_model = file_cleaned.copy()\n",
    "file_model = file_model[file_model.caption.str.len()>1]\n",
    "sent = [row for row in file_model.caption]"
   ]
  },
  {
   "cell_type": "code",
   "execution_count": 28,
   "metadata": {},
   "outputs": [
    {
     "data": {
      "text/html": [
       "<div>\n",
       "<style scoped>\n",
       "    .dataframe tbody tr th:only-of-type {\n",
       "        vertical-align: middle;\n",
       "    }\n",
       "\n",
       "    .dataframe tbody tr th {\n",
       "        vertical-align: top;\n",
       "    }\n",
       "\n",
       "    .dataframe thead th {\n",
       "        text-align: right;\n",
       "    }\n",
       "</style>\n",
       "<table border=\"1\" class=\"dataframe\">\n",
       "  <thead>\n",
       "    <tr style=\"text-align: right;\">\n",
       "      <th></th>\n",
       "      <th>id</th>\n",
       "      <th>type</th>\n",
       "      <th>shortCode</th>\n",
       "      <th>caption</th>\n",
       "      <th>hashtags</th>\n",
       "      <th>mentions</th>\n",
       "      <th>url</th>\n",
       "      <th>commentsCount</th>\n",
       "      <th>firstComment</th>\n",
       "      <th>latestComments</th>\n",
       "      <th>...</th>\n",
       "      <th>timestamp</th>\n",
       "      <th>childPosts</th>\n",
       "      <th>ownerId</th>\n",
       "      <th>videoViewCount</th>\n",
       "      <th>name</th>\n",
       "      <th>topPostsOnly</th>\n",
       "      <th>profilePicUrl</th>\n",
       "      <th>postsCount</th>\n",
       "      <th>topPosts</th>\n",
       "      <th>latestPosts</th>\n",
       "    </tr>\n",
       "  </thead>\n",
       "  <tbody>\n",
       "    <tr>\n",
       "      <td>0</td>\n",
       "      <td>2948966013950609920</td>\n",
       "      <td>Sidecar</td>\n",
       "      <td>Cjs1PckOcqp</td>\n",
       "      <td>[avaa, una, vez, más, dejó, su, huella, verde,...</td>\n",
       "      <td>[Avaa, Avaavoluntariado, proexcelencia, uvplv,...</td>\n",
       "      <td>[]</td>\n",
       "      <td>https://www.instagram.com/p/Cjs1PckOcqp/</td>\n",
       "      <td>0.0</td>\n",
       "      <td></td>\n",
       "      <td>[]</td>\n",
       "      <td>...</td>\n",
       "      <td>2022-10-14 16:16:05+00:00</td>\n",
       "      <td>[]</td>\n",
       "      <td>2.176554e+09</td>\n",
       "      <td>NaN</td>\n",
       "      <td>NaN</td>\n",
       "      <td>NaN</td>\n",
       "      <td>NaN</td>\n",
       "      <td>NaN</td>\n",
       "      <td>NaN</td>\n",
       "      <td>NaN</td>\n",
       "    </tr>\n",
       "    <tr>\n",
       "      <td>1</td>\n",
       "      <td>2948965002603205632</td>\n",
       "      <td>Image</td>\n",
       "      <td>Cjs1AurOROV</td>\n",
       "      <td>[tomanota, si, deseas, contactar, con, el, equ...</td>\n",
       "      <td>[TomaNota, canaima, GNU, Linux, soporte, corre...</td>\n",
       "      <td>[]</td>\n",
       "      <td>https://www.instagram.com/p/Cjs1AurOROV/</td>\n",
       "      <td>0.0</td>\n",
       "      <td></td>\n",
       "      <td>[]</td>\n",
       "      <td>...</td>\n",
       "      <td>2022-10-14 16:14:04+00:00</td>\n",
       "      <td>[]</td>\n",
       "      <td>3.639956e+10</td>\n",
       "      <td>NaN</td>\n",
       "      <td>NaN</td>\n",
       "      <td>NaN</td>\n",
       "      <td>NaN</td>\n",
       "      <td>NaN</td>\n",
       "      <td>NaN</td>\n",
       "      <td>NaN</td>\n",
       "    </tr>\n",
       "    <tr>\n",
       "      <td>2</td>\n",
       "      <td>2948957681219074560</td>\n",
       "      <td>Sidecar</td>\n",
       "      <td>CjszWMGuPmO</td>\n",
       "      <td>[posted, tepuyroraima, viva, a, aventura, de, ...</td>\n",
       "      <td>[tepuyroraima, montañistasvenezuela, trekkinga...</td>\n",
       "      <td>[tepuyroraima, montanistasvenezuela, mochileir...</td>\n",
       "      <td>https://www.instagram.com/p/CjszWMGuPmO/</td>\n",
       "      <td>0.0</td>\n",
       "      <td></td>\n",
       "      <td>[]</td>\n",
       "      <td>...</td>\n",
       "      <td>2022-10-14 15:59:31+00:00</td>\n",
       "      <td>[]</td>\n",
       "      <td>5.202964e+10</td>\n",
       "      <td>NaN</td>\n",
       "      <td>NaN</td>\n",
       "      <td>NaN</td>\n",
       "      <td>NaN</td>\n",
       "      <td>NaN</td>\n",
       "      <td>NaN</td>\n",
       "      <td>NaN</td>\n",
       "    </tr>\n",
       "  </tbody>\n",
       "</table>\n",
       "<p>3 rows × 26 columns</p>\n",
       "</div>"
      ],
      "text/plain": [
       "                    id     type    shortCode  \\\n",
       "0  2948966013950609920  Sidecar  Cjs1PckOcqp   \n",
       "1  2948965002603205632    Image  Cjs1AurOROV   \n",
       "2  2948957681219074560  Sidecar  CjszWMGuPmO   \n",
       "\n",
       "                                             caption  \\\n",
       "0  [avaa, una, vez, más, dejó, su, huella, verde,...   \n",
       "1  [tomanota, si, deseas, contactar, con, el, equ...   \n",
       "2  [posted, tepuyroraima, viva, a, aventura, de, ...   \n",
       "\n",
       "                                            hashtags  \\\n",
       "0  [Avaa, Avaavoluntariado, proexcelencia, uvplv,...   \n",
       "1  [TomaNota, canaima, GNU, Linux, soporte, corre...   \n",
       "2  [tepuyroraima, montañistasvenezuela, trekkinga...   \n",
       "\n",
       "                                            mentions  \\\n",
       "0                                                 []   \n",
       "1                                                 []   \n",
       "2  [tepuyroraima, montanistasvenezuela, mochileir...   \n",
       "\n",
       "                                        url  commentsCount firstComment  \\\n",
       "0  https://www.instagram.com/p/Cjs1PckOcqp/            0.0                \n",
       "1  https://www.instagram.com/p/Cjs1AurOROV/            0.0                \n",
       "2  https://www.instagram.com/p/CjszWMGuPmO/            0.0                \n",
       "\n",
       "  latestComments  ...                 timestamp  childPosts       ownerId  \\\n",
       "0             []  ... 2022-10-14 16:16:05+00:00          []  2.176554e+09   \n",
       "1             []  ... 2022-10-14 16:14:04+00:00          []  3.639956e+10   \n",
       "2             []  ... 2022-10-14 15:59:31+00:00          []  5.202964e+10   \n",
       "\n",
       "  videoViewCount name  topPostsOnly profilePicUrl postsCount  topPosts  \\\n",
       "0            NaN  NaN           NaN           NaN        NaN       NaN   \n",
       "1            NaN  NaN           NaN           NaN        NaN       NaN   \n",
       "2            NaN  NaN           NaN           NaN        NaN       NaN   \n",
       "\n",
       "   latestPosts  \n",
       "0          NaN  \n",
       "1          NaN  \n",
       "2          NaN  \n",
       "\n",
       "[3 rows x 26 columns]"
      ]
     },
     "execution_count": 28,
     "metadata": {},
     "output_type": "execute_result"
    }
   ],
   "source": [
    "file_model.head(n=3)"
   ]
  },
  {
   "cell_type": "code",
   "execution_count": null,
   "metadata": {},
   "outputs": [],
   "source": [
    "phrases = Phrases(sent, min_count=1, progress_per=10000)\n",
    "bigram = Phraser(phrases)\n",
    "sentences = bigram[sent]"
   ]
  },
  {
   "cell_type": "code",
   "execution_count": 11,
   "metadata": {},
   "outputs": [],
   "source": [
    "w2v_model = Word2Vec(min_count=3,\n",
    "                     window=4,\n",
    "                     vector_size=300,\n",
    "                     sample=1e-5, \n",
    "                     alpha=0.03, \n",
    "                     min_alpha=0.0007, \n",
    "                     negative=20,\n",
    "                     workers=multiprocessing.cpu_count()-1)\n",
    "w2v_model.build_vocab(sentences, progress_per=10000)\n"
   ]
  },
  {
   "cell_type": "code",
   "execution_count": null,
   "metadata": {},
   "outputs": [],
   "source": [
    "w2v_model.train(sentences, total_examples=w2v_model.corpus_count, epochs=30, report_delay=1)\n",
    "w2v_model.init_sims(replace=True)"
   ]
  },
  {
   "cell_type": "code",
   "execution_count": 13,
   "metadata": {},
   "outputs": [],
   "source": [
    "w2v_model.save(\"word2vec.model\")"
   ]
  },
  {
   "cell_type": "code",
   "execution_count": 15,
   "metadata": {},
   "outputs": [],
   "source": [
    "file_export = file_model.copy()\n",
    "file_export['old_caption'] = file_export.caption\n",
    "file_export.old_caption = file_export.old_caption.str.join(' ')\n",
    "file_export.caption = file_export.caption.apply(lambda x: ' '.join(bigram[x]))"
   ]
  },
  {
   "cell_type": "code",
   "execution_count": 17,
   "metadata": {},
   "outputs": [],
   "source": [
    "file_export[['caption']].to_csv('cleaned_dataset.csv', index=False)"
   ]
  },
  {
   "cell_type": "code",
   "execution_count": 21,
   "metadata": {},
   "outputs": [],
   "source": [
    "word_vectors = Word2Vec.load(\"word2vec.model\").wv"
   ]
  },
  {
   "cell_type": "code",
   "execution_count": 22,
   "metadata": {},
   "outputs": [],
   "source": [
    "# it doesn't really matter how many clusters we form, groups will be formed regardless, and we care about the becoming \n",
    "# of these groups in general\n",
    "model = KMeans(n_clusters=2, max_iter=1000, random_state=True, n_init=50).fit(X=word_vectors.vectors.astype('double'))"
   ]
  },
  {
   "cell_type": "code",
   "execution_count": 25,
   "metadata": {},
   "outputs": [
    {
     "data": {
      "text/plain": [
       "[('viajesvzla_mochileros', 0.9551268219947815),\n",
       " ('alertan', 0.927005410194397),\n",
       " ('sistema_solar', 0.9221019148826599),\n",
       " ('notamos', 0.9203981757164001),\n",
       " ('kanaimö_rioorinoco', 0.9193635582923889),\n",
       " ('ensayos', 0.9175423383712769),\n",
       " ('chapo', 0.9174365997314453),\n",
       " ('distintas_partes', 0.9173939824104309),\n",
       " ('rinden', 0.9167763590812683),\n",
       " ('amor_eterno', 0.9156236052513123),\n",
       " ('dañado', 0.9154722094535828),\n",
       " ('importante_entender', 0.9119508266448975),\n",
       " ('aprender_algo', 0.9105193614959717),\n",
       " ('angustia', 0.9094057083129883),\n",
       " ('tumeremo_km88', 0.9086214303970337),\n",
       " ('ha_dedicado', 0.9082965850830078),\n",
       " ('nos_olvidamos', 0.9063467383384705),\n",
       " ('ocurrir', 0.9059949517250061),\n",
       " ('echaron', 0.9059560894966125),\n",
       " ('allá_afuera', 0.9052088260650635)]"
      ]
     },
     "execution_count": 25,
     "metadata": {},
     "output_type": "execute_result"
    }
   ],
   "source": [
    "word_vectors.similar_by_vector(model.cluster_centers_[0], topn=4, restrict_vocab=None)"
   ]
  },
  {
   "cell_type": "code",
   "execution_count": 26,
   "metadata": {},
   "outputs": [
    {
     "data": {
      "text/plain": [
       "[('fotografodeviaje_fotografoporvenezuela', 0.9865026473999023),\n",
       " ('modasostenible_hechoenvenezuela', 0.9860959053039551),\n",
       " ('risas_momos', 0.9849964380264282),\n",
       " ('os_officelibre', 0.984299898147583),\n",
       " ('upcycle_sustainable', 0.9842298626899719),\n",
       " ('thermalmechanics_refrigeracion', 0.9841768741607666),\n",
       " ('sustainability_suprareciclaje', 0.9836444854736328),\n",
       " ('eventos_fotografodelavida', 0.9836214184761047),\n",
       " ('modelos_productos', 0.9834763407707214),\n",
       " ('composition_geometry', 0.9828994274139404),\n",
       " ('sanfelipe_avila', 0.9824132323265076),\n",
       " ('chicaihalu_clientaihalu', 0.9823122024536133),\n",
       " ('repuestosautomotrices_proveedores', 0.9821250438690186),\n",
       " ('miriamvera_tepuyero', 0.9820870757102966),\n",
       " ('memesgraciosos_humorlatino', 0.9814759492874146),\n",
       " ('adventureisoutthere', 0.9814283847808838),\n",
       " ('model_retouch', 0.9813326597213745),\n",
       " ('waterpool', 0.981279194355011),\n",
       " ('argentina_duelo', 0.9812391400337219),\n",
       " ('silopuedesimaginarlopodemosproyectar', 0.9812266826629639)]"
      ]
     },
     "execution_count": 26,
     "metadata": {},
     "output_type": "execute_result"
    }
   ],
   "source": [
    "word_vectors.similar_by_vector(model.cluster_centers_[1], topn=4, restrict_vocab=None)"
   ]
  }
 ],
 "metadata": {
  "kernelspec": {
   "display_name": "Python 3.7.4 ('base')",
   "language": "python",
   "name": "python3"
  },
  "language_info": {
   "codemirror_mode": {
    "name": "ipython",
    "version": 3
   },
   "file_extension": ".py",
   "mimetype": "text/x-python",
   "name": "python",
   "nbconvert_exporter": "python",
   "pygments_lexer": "ipython3",
   "version": "3.7.4"
  },
  "orig_nbformat": 4,
  "vscode": {
   "interpreter": {
    "hash": "40d3a090f54c6569ab1632332b64b2c03c39dcf918b08424e98f38b5ae0af88f"
   }
  }
 },
 "nbformat": 4,
 "nbformat_minor": 2
}
