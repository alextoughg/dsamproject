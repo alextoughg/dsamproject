{
 "cells": [
  {
   "cell_type": "code",
   "execution_count": 1,
   "metadata": {},
   "outputs": [],
   "source": [
    "import gensim\n",
    "from gensim.models import Word2Vec \n",
    "from gensim.models import KeyedVectors"
   ]
  },
  {
   "cell_type": "code",
   "execution_count": null,
   "metadata": {},
   "outputs": [],
   "source": [
    "# Embeddings used: FastText embeddings from SBWC (Spanish Billon Word Corpus), https://github.com/dccuchile/spanish-word-embeddings"
   ]
  },
  {
   "cell_type": "code",
   "execution_count": 2,
   "metadata": {},
   "outputs": [],
   "source": [
    "model = KeyedVectors.load_word2vec_format(\"fasttext-sbwc.vec.gz\")"
   ]
  },
  {
   "cell_type": "code",
   "execution_count": 3,
   "metadata": {},
   "outputs": [],
   "source": [
    "import pandas as pd\n",
    "from re import sub\n",
    "from gensim.models.phrases import Phrases, Phraser\n",
    "from gensim.models import Word2Vec\n",
    "import multiprocessing\n",
    "from sklearn.cluster import KMeans"
   ]
  },
  {
   "cell_type": "code",
   "execution_count": 4,
   "metadata": {},
   "outputs": [],
   "source": [
    "#load file\n",
    "file = pd.read_json(\"dataset_instagram-hashtag-scraper_2022-10-14_18-12-08-523.json\") "
   ]
  },
  {
   "cell_type": "code",
   "execution_count": 5,
   "metadata": {},
   "outputs": [],
   "source": [
    "# clean up captions\n",
    "# want to remove newlines, exclamation points, emojis (for now), as well as hashtag symbols\n",
    "def caption_to_word_list(caption):\n",
    "    caption = str(caption)\n",
    "    caption = caption.lower()\n",
    "    caption = sub(r\"[^A-Za-z0-9^À-ÿ]\", \" \", caption)\n",
    "    caption = sub(r\"#\", \"\", caption)\n",
    "    caption = caption.split()\n",
    "    return caption"
   ]
  },
  {
   "cell_type": "code",
   "execution_count": 6,
   "metadata": {},
   "outputs": [],
   "source": [
    "file_cleaned = file\n",
    "file_cleaned.caption = file.caption.apply(lambda x: caption_to_word_list(x))"
   ]
  },
  {
   "cell_type": "code",
   "execution_count": 7,
   "metadata": {},
   "outputs": [],
   "source": [
    "file_model = file_cleaned.copy()\n",
    "file_model = file_model[file_model.caption.str.len()>1]\n",
    "sent = [row for row in file_model.caption]"
   ]
  },
  {
   "cell_type": "code",
   "execution_count": 8,
   "metadata": {},
   "outputs": [],
   "source": [
    "phrases = Phrases(sent, min_count=1, progress_per=10000)\n",
    "bigram = Phraser(phrases)\n",
    "sentences = bigram[sent]"
   ]
  },
  {
   "cell_type": "code",
   "execution_count": 9,
   "metadata": {},
   "outputs": [],
   "source": [
    "model_2 = Word2Vec(min_count=3,\n",
    "                     window=4,\n",
    "                     vector_size=300,\n",
    "                     sample=1e-5, \n",
    "                     alpha=0.03, \n",
    "                     min_alpha=0.0007, \n",
    "                     negative=20,\n",
    "                     workers=multiprocessing.cpu_count()-1)\n",
    "model_2.build_vocab(sentences, progress_per=10000)\n"
   ]
  },
  {
   "cell_type": "code",
   "execution_count": 12,
   "metadata": {},
   "outputs": [],
   "source": [
    "total_examples = model_2.corpus_count\n",
    "words = list(model.index_to_key)\n",
    "model_2.build_vocab([words], update=True)\n"
   ]
  },
  {
   "cell_type": "code",
   "execution_count": 21,
   "metadata": {},
   "outputs": [],
   "source": [
    "import numpy as np\n",
    "model_2.wv.vectors_lockf = np.ones(len(model_2.wv))"
   ]
  },
  {
   "cell_type": "code",
   "execution_count": 23,
   "metadata": {},
   "outputs": [],
   "source": [
    "model_2.wv.intersect_word2vec_format('fasttext-sbwc.vec.gz')"
   ]
  },
  {
   "cell_type": "code",
   "execution_count": 27,
   "metadata": {},
   "outputs": [
    {
     "data": {
      "text/plain": [
       "(4610391, 12275800)"
      ]
     },
     "execution_count": 27,
     "metadata": {},
     "output_type": "execute_result"
    }
   ],
   "source": [
    "model_2.train(sentences, total_examples=total_examples, epochs=model_2.epochs)"
   ]
  },
  {
   "cell_type": "code",
   "execution_count": 28,
   "metadata": {},
   "outputs": [
    {
     "name": "stderr",
     "output_type": "stream",
     "text": [
      "/opt/anaconda3/lib/python3.7/site-packages/ipykernel_launcher.py:1: DeprecationWarning: Call to deprecated `init_sims` (Gensim 4.0.0 implemented internal optimizations that make calls to init_sims() unnecessary. init_sims() is now obsoleted and will be completely removed in future versions. See https://github.com/RaRe-Technologies/gensim/wiki/Migrating-from-Gensim-3.x-to-4).\n",
      "  \"\"\"Entry point for launching an IPython kernel.\n"
     ]
    }
   ],
   "source": [
    "model_2.init_sims(replace=True)"
   ]
  },
  {
   "cell_type": "code",
   "execution_count": 29,
   "metadata": {},
   "outputs": [],
   "source": [
    "model_2.save(\"word2vec.model\")\n",
    "file_export = file_model.copy()\n",
    "file_export['old_caption'] = file_export.caption\n",
    "file_export.old_caption = file_export.old_caption.str.join(' ')\n",
    "file_export.caption = file_export.caption.apply(lambda x: ' '.join(bigram[x]))\n",
    "file_export[['caption']].to_csv('cleaned_dataset.csv', index=False)\n",
    "word_vectors = Word2Vec.load(\"word2vec.model\").wv"
   ]
  },
  {
   "cell_type": "code",
   "execution_count": 30,
   "metadata": {},
   "outputs": [],
   "source": [
    "# it doesn't really matter how many clusters we form, groups will be formed regardless, and we care about the becoming \n",
    "# of these groups in general\n",
    "model = KMeans(n_clusters=2, max_iter=1000, random_state=True, n_init=50).fit(X=word_vectors.vectors.astype('double'))"
   ]
  },
  {
   "cell_type": "code",
   "execution_count": 33,
   "metadata": {},
   "outputs": [
    {
     "data": {
      "text/plain": [
       "[('manera_decisiva', 0.9201809167861938),\n",
       " ('q_reciba', 0.918436586856842),\n",
       " ('asertiva_para', 0.9182451963424683),\n",
       " ('gobierno_bolivariano', 0.9175695180892944),\n",
       " ('asamblea_ven', 0.9174111485481262),\n",
       " ('cepas_concientes', 0.9172927141189575),\n",
       " ('para_esclarecer', 0.916012704372406),\n",
       " ('designó_una', 0.9146816730499268),\n",
       " ('ofertascanaima', 0.9144347310066223),\n",
       " ('asamblea_general', 0.9136211276054382)]"
      ]
     },
     "execution_count": 33,
     "metadata": {},
     "output_type": "execute_result"
    }
   ],
   "source": [
    "word_vectors.similar_by_vector(model.cluster_centers_[0], topn=10, restrict_vocab=None)"
   ]
  },
  {
   "cell_type": "code",
   "execution_count": 34,
   "metadata": {},
   "outputs": [
    {
     "data": {
      "text/plain": [
       "[('cambioscanaimaexpress_pagina', 0.9990593194961548),\n",
       " ('ultimasnoticiasdepuebla', 0.998956561088562),\n",
       " ('messi_cucuta', 0.9985226392745972),\n",
       " ('bogota_santiago', 0.9984877705574036),\n",
       " ('barranquilla_medellin', 0.9984648823738098),\n",
       " ('riodejaneiro_cucuta', 0.9983223676681519),\n",
       " ('juzgado_con', 0.9982469081878662),\n",
       " ('siempre_grabada', 0.9982369542121887),\n",
       " ('friedrich_nietzsche', 0.9981515407562256),\n",
       " ('juzgados_con', 0.9981502294540405)]"
      ]
     },
     "execution_count": 34,
     "metadata": {},
     "output_type": "execute_result"
    }
   ],
   "source": [
    "word_vectors.similar_by_vector(model.cluster_centers_[1], topn=10, restrict_vocab=None)"
   ]
  }
 ],
 "metadata": {
  "kernelspec": {
   "display_name": "Python 3.7.4 ('base')",
   "language": "python",
   "name": "python3"
  },
  "language_info": {
   "codemirror_mode": {
    "name": "ipython",
    "version": 3
   },
   "file_extension": ".py",
   "mimetype": "text/x-python",
   "name": "python",
   "nbconvert_exporter": "python",
   "pygments_lexer": "ipython3",
   "version": "3.7.4"
  },
  "orig_nbformat": 4,
  "vscode": {
   "interpreter": {
    "hash": "40d3a090f54c6569ab1632332b64b2c03c39dcf918b08424e98f38b5ae0af88f"
   }
  }
 },
 "nbformat": 4,
 "nbformat_minor": 2
}
